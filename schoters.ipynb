{
 "cells": [
  {
   "cell_type": "code",
   "execution_count": 1,
   "metadata": {},
   "outputs": [
    {
     "name": "stdout",
     "output_type": "stream",
     "text": [
      "Name: SQLAlchemy\n",
      "Version: 1.4.39\n",
      "Summary: Database Abstraction Library\n",
      "Home-page: https://www.sqlalchemy.org\n",
      "Author: Mike Bayer\n",
      "Author-email: mike_mp@zzzcomputing.com\n",
      "License: MIT\n",
      "Location: C:\\Users\\Acer\\.conda\\envs\\bengkelkoding\\Lib\\site-packages\n",
      "Requires: greenlet\n",
      "Required-by: \n"
     ]
    }
   ],
   "source": [
    "# ! pip install pymysql\n",
    "# ! pip install --upgrade sqlalchemy\n",
    "# ! pip show sqlalchemy\n",
    "\n"
   ]
  },
  {
   "cell_type": "markdown",
   "metadata": {},
   "source": [
    "# CONVERT TO SQL\n"
   ]
  },
  {
   "cell_type": "code",
   "execution_count": 1,
   "metadata": {},
   "outputs": [],
   "source": [
    "import pandas as pd\n",
    "from sqlalchemy import create_engine\n",
    "import pymysql\n",
    "import seaborn as sns\n",
    "import matplotlib.pyplot as plt\n",
    "import numpy as np\n",
    "\n",
    "\n"
   ]
  },
  {
   "cell_type": "code",
   "execution_count": 17,
   "metadata": {},
   "outputs": [],
   "source": [
    "campaign = pd.read_csv('Campaign-Grid view.csv')\n",
    "customer = pd.read_csv('Customer-Grid view.csv')\n",
    "transaksi = pd.read_csv('Transaksi-Grid view.csv')"
   ]
  },
  {
   "cell_type": "code",
   "execution_count": 18,
   "metadata": {},
   "outputs": [],
   "source": [
    "campaign.head()\n",
    "campaign = campaign.rename(columns={'Start Date':'Start_Date','End Date\t':'End_Date'})"
   ]
  },
  {
   "cell_type": "code",
   "execution_count": 19,
   "metadata": {},
   "outputs": [
    {
     "data": {
      "text/html": [
       "<div>\n",
       "<style scoped>\n",
       "    .dataframe tbody tr th:only-of-type {\n",
       "        vertical-align: middle;\n",
       "    }\n",
       "\n",
       "    .dataframe tbody tr th {\n",
       "        vertical-align: top;\n",
       "    }\n",
       "\n",
       "    .dataframe thead th {\n",
       "        text-align: right;\n",
       "    }\n",
       "</style>\n",
       "<table border=\"1\" class=\"dataframe\">\n",
       "  <thead>\n",
       "    <tr style=\"text-align: right;\">\n",
       "      <th></th>\n",
       "      <th>Name</th>\n",
       "      <th>Start_Date</th>\n",
       "      <th>End Date</th>\n",
       "      <th>Budget</th>\n",
       "    </tr>\n",
       "  </thead>\n",
       "  <tbody>\n",
       "    <tr>\n",
       "      <th>0</th>\n",
       "      <td>Campaign 1</td>\n",
       "      <td>1/1/2021</td>\n",
       "      <td>31/1/2021</td>\n",
       "      <td>Rp10000000.00</td>\n",
       "    </tr>\n",
       "    <tr>\n",
       "      <th>1</th>\n",
       "      <td>Campaign 2</td>\n",
       "      <td>1/2/2021</td>\n",
       "      <td>28/2/2021</td>\n",
       "      <td>Rp14000000.00</td>\n",
       "    </tr>\n",
       "    <tr>\n",
       "      <th>2</th>\n",
       "      <td>Campaign 3</td>\n",
       "      <td>1/3/2021</td>\n",
       "      <td>31/3/2021</td>\n",
       "      <td>Rp23000000.00</td>\n",
       "    </tr>\n",
       "    <tr>\n",
       "      <th>3</th>\n",
       "      <td>Campaign 4</td>\n",
       "      <td>1/4/2021</td>\n",
       "      <td>30/4/2021</td>\n",
       "      <td>Rp35000000.00</td>\n",
       "    </tr>\n",
       "    <tr>\n",
       "      <th>4</th>\n",
       "      <td>Campaign 5</td>\n",
       "      <td>1/5/2021</td>\n",
       "      <td>31/5/2021</td>\n",
       "      <td>Rp36000000.00</td>\n",
       "    </tr>\n",
       "  </tbody>\n",
       "</table>\n",
       "</div>"
      ],
      "text/plain": [
       "         Name Start_Date   End Date         Budget\n",
       "0  Campaign 1   1/1/2021  31/1/2021  Rp10000000.00\n",
       "1  Campaign 2   1/2/2021  28/2/2021  Rp14000000.00\n",
       "2  Campaign 3   1/3/2021  31/3/2021  Rp23000000.00\n",
       "3  Campaign 4   1/4/2021  30/4/2021  Rp35000000.00\n",
       "4  Campaign 5   1/5/2021  31/5/2021  Rp36000000.00"
      ]
     },
     "execution_count": 19,
     "metadata": {},
     "output_type": "execute_result"
    }
   ],
   "source": [
    "campaign.head()\n"
   ]
  },
  {
   "cell_type": "code",
   "execution_count": 20,
   "metadata": {},
   "outputs": [
    {
     "data": {
      "text/html": [
       "<div>\n",
       "<style scoped>\n",
       "    .dataframe tbody tr th:only-of-type {\n",
       "        vertical-align: middle;\n",
       "    }\n",
       "\n",
       "    .dataframe tbody tr th {\n",
       "        vertical-align: top;\n",
       "    }\n",
       "\n",
       "    .dataframe thead th {\n",
       "        text-align: right;\n",
       "    }\n",
       "</style>\n",
       "<table border=\"1\" class=\"dataframe\">\n",
       "  <thead>\n",
       "    <tr style=\"text-align: right;\">\n",
       "      <th></th>\n",
       "      <th>Name</th>\n",
       "      <th>Domisili</th>\n",
       "      <th>Usia</th>\n",
       "    </tr>\n",
       "  </thead>\n",
       "  <tbody>\n",
       "    <tr>\n",
       "      <th>0</th>\n",
       "      <td>Chi</td>\n",
       "      <td>Bali</td>\n",
       "      <td>32</td>\n",
       "    </tr>\n",
       "    <tr>\n",
       "      <th>1</th>\n",
       "      <td>Dubaku</td>\n",
       "      <td>Bali</td>\n",
       "      <td>28</td>\n",
       "    </tr>\n",
       "    <tr>\n",
       "      <th>2</th>\n",
       "      <td>Taurai</td>\n",
       "      <td>Jakarta</td>\n",
       "      <td>35</td>\n",
       "    </tr>\n",
       "    <tr>\n",
       "      <th>3</th>\n",
       "      <td>Thokozani</td>\n",
       "      <td>Luar Indonesia</td>\n",
       "      <td>36</td>\n",
       "    </tr>\n",
       "    <tr>\n",
       "      <th>4</th>\n",
       "      <td>Ufuoma</td>\n",
       "      <td>Bali</td>\n",
       "      <td>48</td>\n",
       "    </tr>\n",
       "  </tbody>\n",
       "</table>\n",
       "</div>"
      ],
      "text/plain": [
       "        Name        Domisili  Usia\n",
       "0        Chi            Bali    32\n",
       "1     Dubaku            Bali    28\n",
       "2     Taurai         Jakarta    35\n",
       "3  Thokozani  Luar Indonesia    36\n",
       "4     Ufuoma            Bali    48"
      ]
     },
     "execution_count": 20,
     "metadata": {},
     "output_type": "execute_result"
    }
   ],
   "source": [
    "customer.head()"
   ]
  },
  {
   "cell_type": "code",
   "execution_count": 21,
   "metadata": {},
   "outputs": [],
   "source": [
    "transaksi.head()\n",
    "transaksi = transaksi.rename(columns={'Tanggal Transaksi':'Tanggal_Transaksi','Nama Sales':'Nama_Sales','Harga Asli':'Harga_Asli'\n",
    "                                      ,'Tipe Produk':'Tipe_Produk'})"
   ]
  },
  {
   "cell_type": "code",
   "execution_count": 22,
   "metadata": {},
   "outputs": [
    {
     "data": {
      "text/html": [
       "<div>\n",
       "<style scoped>\n",
       "    .dataframe tbody tr th:only-of-type {\n",
       "        vertical-align: middle;\n",
       "    }\n",
       "\n",
       "    .dataframe tbody tr th {\n",
       "        vertical-align: top;\n",
       "    }\n",
       "\n",
       "    .dataframe thead th {\n",
       "        text-align: right;\n",
       "    }\n",
       "</style>\n",
       "<table border=\"1\" class=\"dataframe\">\n",
       "  <thead>\n",
       "    <tr style=\"text-align: right;\">\n",
       "      <th></th>\n",
       "      <th>Tanggal_Transaksi</th>\n",
       "      <th>Nama_Sales</th>\n",
       "      <th>Harga_Asli</th>\n",
       "      <th>Customer</th>\n",
       "      <th>Tipe_Produk</th>\n",
       "    </tr>\n",
       "  </thead>\n",
       "  <tbody>\n",
       "    <tr>\n",
       "      <th>0</th>\n",
       "      <td>28/2/2021</td>\n",
       "      <td>Octroy</td>\n",
       "      <td>Rp41000.00</td>\n",
       "      <td>Ade</td>\n",
       "      <td>Produk A</td>\n",
       "    </tr>\n",
       "    <tr>\n",
       "      <th>1</th>\n",
       "      <td>9/2/2021</td>\n",
       "      <td>Aini</td>\n",
       "      <td>Rp270000.00</td>\n",
       "      <td>Qayug</td>\n",
       "      <td>Produk A</td>\n",
       "    </tr>\n",
       "    <tr>\n",
       "      <th>2</th>\n",
       "      <td>26/3/2021</td>\n",
       "      <td>Octroy</td>\n",
       "      <td>Rp255000.00</td>\n",
       "      <td>Ixoim</td>\n",
       "      <td>Produk D</td>\n",
       "    </tr>\n",
       "    <tr>\n",
       "      <th>3</th>\n",
       "      <td>20/3/2021</td>\n",
       "      <td>Octroy</td>\n",
       "      <td>Rp1025000.00</td>\n",
       "      <td>Yinoh</td>\n",
       "      <td>Produk C</td>\n",
       "    </tr>\n",
       "    <tr>\n",
       "      <th>4</th>\n",
       "      <td>4/4/2021</td>\n",
       "      <td>Agus</td>\n",
       "      <td>Rp130000.00</td>\n",
       "      <td>Hoosnestrond</td>\n",
       "      <td>Produk C</td>\n",
       "    </tr>\n",
       "  </tbody>\n",
       "</table>\n",
       "</div>"
      ],
      "text/plain": [
       "  Tanggal_Transaksi Nama_Sales    Harga_Asli      Customer Tipe_Produk\n",
       "0         28/2/2021     Octroy    Rp41000.00           Ade    Produk A\n",
       "1          9/2/2021       Aini   Rp270000.00         Qayug    Produk A\n",
       "2         26/3/2021     Octroy   Rp255000.00         Ixoim    Produk D\n",
       "3         20/3/2021     Octroy  Rp1025000.00         Yinoh    Produk C\n",
       "4          4/4/2021       Agus   Rp130000.00  Hoosnestrond    Produk C"
      ]
     },
     "execution_count": 22,
     "metadata": {},
     "output_type": "execute_result"
    }
   ],
   "source": [
    "transaksi.head()\n"
   ]
  },
  {
   "cell_type": "code",
   "execution_count": 35,
   "metadata": {},
   "outputs": [],
   "source": [
    "connection_string = \"mysql+pymysql://root:@localhost:3306/schoters\"\n",
    "engine = create_engine(connection_string)\n"
   ]
  },
  {
   "cell_type": "code",
   "execution_count": 28,
   "metadata": {},
   "outputs": [
    {
     "data": {
      "text/plain": [
       "7"
      ]
     },
     "execution_count": 28,
     "metadata": {},
     "output_type": "execute_result"
    }
   ],
   "source": [
    "# customer.to_sql('customer',engine,if_exists=\"append\")\n",
    "# campaign.to_sql('campaign',engine,if_exists=\"append\")\n",
    "# transaksi.to_sql('transaksi',engine,if_exists=\"append\")\n"
   ]
  },
  {
   "cell_type": "markdown",
   "metadata": {},
   "source": [
    "# VISUALIZATION"
   ]
  },
  {
   "cell_type": "code",
   "execution_count": 2,
   "metadata": {},
   "outputs": [],
   "source": [
    "campaign = pd.read_csv('campaign.csv')\n",
    "transaksi = pd.read_csv('transaksi.csv')\n",
    "customer = pd.read_csv('customer.csv')\n"
   ]
  },
  {
   "cell_type": "code",
   "execution_count": 3,
   "metadata": {},
   "outputs": [
    {
     "data": {
      "text/html": [
       "<div>\n",
       "<style scoped>\n",
       "    .dataframe tbody tr th:only-of-type {\n",
       "        vertical-align: middle;\n",
       "    }\n",
       "\n",
       "    .dataframe tbody tr th {\n",
       "        vertical-align: top;\n",
       "    }\n",
       "\n",
       "    .dataframe thead th {\n",
       "        text-align: right;\n",
       "    }\n",
       "</style>\n",
       "<table border=\"1\" class=\"dataframe\">\n",
       "  <thead>\n",
       "    <tr style=\"text-align: right;\">\n",
       "      <th></th>\n",
       "      <th>index</th>\n",
       "      <th>Name</th>\n",
       "      <th>Domisili</th>\n",
       "      <th>Usia</th>\n",
       "      <th>id_cust</th>\n",
       "    </tr>\n",
       "  </thead>\n",
       "  <tbody>\n",
       "    <tr>\n",
       "      <th>0</th>\n",
       "      <td>5</td>\n",
       "      <td>Abdoul</td>\n",
       "      <td>Bali</td>\n",
       "      <td>12</td>\n",
       "      <td>1</td>\n",
       "    </tr>\n",
       "    <tr>\n",
       "      <th>1</th>\n",
       "      <td>19</td>\n",
       "      <td>Ade</td>\n",
       "      <td>Jawa Barat</td>\n",
       "      <td>42</td>\n",
       "      <td>2</td>\n",
       "    </tr>\n",
       "    <tr>\n",
       "      <th>2</th>\n",
       "      <td>9</td>\n",
       "      <td>Adegoke</td>\n",
       "      <td>Luar Indonesia</td>\n",
       "      <td>41</td>\n",
       "      <td>3</td>\n",
       "    </tr>\n",
       "    <tr>\n",
       "      <th>3</th>\n",
       "      <td>50</td>\n",
       "      <td>Axzab</td>\n",
       "      <td>Jakarta</td>\n",
       "      <td>24</td>\n",
       "      <td>4</td>\n",
       "    </tr>\n",
       "    <tr>\n",
       "      <th>4</th>\n",
       "      <td>47</td>\n",
       "      <td>Bluaxia</td>\n",
       "      <td>Jawa Barat</td>\n",
       "      <td>11</td>\n",
       "      <td>5</td>\n",
       "    </tr>\n",
       "  </tbody>\n",
       "</table>\n",
       "</div>"
      ],
      "text/plain": [
       "   index     Name        Domisili  Usia  id_cust\n",
       "0      5   Abdoul            Bali    12        1\n",
       "1     19      Ade      Jawa Barat    42        2\n",
       "2      9  Adegoke  Luar Indonesia    41        3\n",
       "3     50    Axzab         Jakarta    24        4\n",
       "4     47  Bluaxia      Jawa Barat    11        5"
      ]
     },
     "execution_count": 3,
     "metadata": {},
     "output_type": "execute_result"
    }
   ],
   "source": [
    "customer.head()"
   ]
  },
  {
   "cell_type": "markdown",
   "metadata": {},
   "source": []
  },
  {
   "cell_type": "code",
   "execution_count": 4,
   "metadata": {},
   "outputs": [
    {
     "data": {
      "text/html": [
       "<div>\n",
       "<style scoped>\n",
       "    .dataframe tbody tr th:only-of-type {\n",
       "        vertical-align: middle;\n",
       "    }\n",
       "\n",
       "    .dataframe tbody tr th {\n",
       "        vertical-align: top;\n",
       "    }\n",
       "\n",
       "    .dataframe thead th {\n",
       "        text-align: right;\n",
       "    }\n",
       "</style>\n",
       "<table border=\"1\" class=\"dataframe\">\n",
       "  <thead>\n",
       "    <tr style=\"text-align: right;\">\n",
       "      <th></th>\n",
       "      <th>index</th>\n",
       "      <th>Tanggal_Transaksi</th>\n",
       "      <th>Nama_Sales</th>\n",
       "      <th>Harga_Asli</th>\n",
       "      <th>Customer</th>\n",
       "      <th>Tipe_Produk</th>\n",
       "      <th>id_cust</th>\n",
       "      <th>id_campaign</th>\n",
       "      <th>BT</th>\n",
       "      <th>Bulantahun</th>\n",
       "    </tr>\n",
       "  </thead>\n",
       "  <tbody>\n",
       "    <tr>\n",
       "      <th>0</th>\n",
       "      <td>0</td>\n",
       "      <td>28/2/2021</td>\n",
       "      <td>Octroy</td>\n",
       "      <td>Rp41000.00</td>\n",
       "      <td>Ade</td>\n",
       "      <td>Produk A</td>\n",
       "      <td>2</td>\n",
       "      <td>2.0</td>\n",
       "      <td>20212</td>\n",
       "      <td>2021-02-28</td>\n",
       "    </tr>\n",
       "    <tr>\n",
       "      <th>1</th>\n",
       "      <td>1</td>\n",
       "      <td>9/2/2021</td>\n",
       "      <td>Aini</td>\n",
       "      <td>Rp270000.00</td>\n",
       "      <td>Qayug</td>\n",
       "      <td>Produk A</td>\n",
       "      <td>42</td>\n",
       "      <td>2.0</td>\n",
       "      <td>20212</td>\n",
       "      <td>2021-02-09</td>\n",
       "    </tr>\n",
       "    <tr>\n",
       "      <th>2</th>\n",
       "      <td>2</td>\n",
       "      <td>26/3/2021</td>\n",
       "      <td>Octroy</td>\n",
       "      <td>Rp255000.00</td>\n",
       "      <td>Ixoim</td>\n",
       "      <td>Produk D</td>\n",
       "      <td>26</td>\n",
       "      <td>3.0</td>\n",
       "      <td>20213</td>\n",
       "      <td>2021-03-26</td>\n",
       "    </tr>\n",
       "    <tr>\n",
       "      <th>3</th>\n",
       "      <td>3</td>\n",
       "      <td>20/3/2021</td>\n",
       "      <td>Octroy</td>\n",
       "      <td>Rp1025000.00</td>\n",
       "      <td>Yinoh</td>\n",
       "      <td>Produk C</td>\n",
       "      <td>55</td>\n",
       "      <td>3.0</td>\n",
       "      <td>20213</td>\n",
       "      <td>2021-03-20</td>\n",
       "    </tr>\n",
       "    <tr>\n",
       "      <th>4</th>\n",
       "      <td>4</td>\n",
       "      <td>4/4/2021</td>\n",
       "      <td>Agus</td>\n",
       "      <td>Rp130000.00</td>\n",
       "      <td>Hoosnestrond</td>\n",
       "      <td>Produk C</td>\n",
       "      <td>24</td>\n",
       "      <td>4.0</td>\n",
       "      <td>20214</td>\n",
       "      <td>2021-04-04</td>\n",
       "    </tr>\n",
       "  </tbody>\n",
       "</table>\n",
       "</div>"
      ],
      "text/plain": [
       "   index Tanggal_Transaksi Nama_Sales    Harga_Asli      Customer Tipe_Produk  \\\n",
       "0      0         28/2/2021     Octroy    Rp41000.00           Ade    Produk A   \n",
       "1      1          9/2/2021       Aini   Rp270000.00         Qayug    Produk A   \n",
       "2      2         26/3/2021     Octroy   Rp255000.00         Ixoim    Produk D   \n",
       "3      3         20/3/2021     Octroy  Rp1025000.00         Yinoh    Produk C   \n",
       "4      4          4/4/2021       Agus   Rp130000.00  Hoosnestrond    Produk C   \n",
       "\n",
       "   id_cust  id_campaign     BT  Bulantahun  \n",
       "0        2          2.0  20212  2021-02-28  \n",
       "1       42          2.0  20212  2021-02-09  \n",
       "2       26          3.0  20213  2021-03-26  \n",
       "3       55          3.0  20213  2021-03-20  \n",
       "4       24          4.0  20214  2021-04-04  "
      ]
     },
     "execution_count": 4,
     "metadata": {},
     "output_type": "execute_result"
    }
   ],
   "source": [
    "transaksi.head()"
   ]
  },
  {
   "cell_type": "code",
   "execution_count": 5,
   "metadata": {},
   "outputs": [],
   "source": [
    "transaksi['Bulantahun'] = pd.to_datetime(transaksi['Bulantahun']).dt.strftime('%Y-%m')"
   ]
  },
  {
   "cell_type": "code",
   "execution_count": 6,
   "metadata": {},
   "outputs": [
    {
     "name": "stdout",
     "output_type": "stream",
     "text": [
      "<class 'pandas.core.frame.DataFrame'>\n",
      "RangeIndex: 441 entries, 0 to 440\n",
      "Data columns (total 10 columns):\n",
      " #   Column             Non-Null Count  Dtype  \n",
      "---  ------             --------------  -----  \n",
      " 0   index              441 non-null    int64  \n",
      " 1   Tanggal_Transaksi  441 non-null    object \n",
      " 2   Nama_Sales         441 non-null    object \n",
      " 3   Harga_Asli         441 non-null    object \n",
      " 4   Customer           441 non-null    object \n",
      " 5   Tipe_Produk        441 non-null    object \n",
      " 6   id_cust            441 non-null    int64  \n",
      " 7   id_campaign        433 non-null    float64\n",
      " 8   BT                 441 non-null    int64  \n",
      " 9   Bulantahun         441 non-null    object \n",
      "dtypes: float64(1), int64(3), object(6)\n",
      "memory usage: 34.6+ KB\n"
     ]
    }
   ],
   "source": [
    "transaksi.info()"
   ]
  },
  {
   "cell_type": "code",
   "execution_count": 7,
   "metadata": {},
   "outputs": [],
   "source": [
    "grouped_df = transaksi.groupby('Bulantahun').agg({'Tipe_Produk': 'count', \n",
    "                            'Harga_Asli': lambda x: np.sum(x.str.replace(',', '').str.replace('Rp', '').astype(float))})\n"
   ]
  },
  {
   "cell_type": "code",
   "execution_count": 8,
   "metadata": {},
   "outputs": [],
   "source": [
    "grouped_df.columns = ['jumlah_produk', 'total_untung']\n",
    "grouped_df = grouped_df.sort_index()\n"
   ]
  },
  {
   "cell_type": "code",
   "execution_count": 9,
   "metadata": {},
   "outputs": [
    {
     "data": {
      "image/png": "[encoded data removed]",
      "text/plain": [
       "<Figure size 640x480 with 2 Axes>"
      ]
     },
     "metadata": {},
     "output_type": "display_data"
    }
   ],
   "source": [
    "\n",
    "\n",
    "fig, ax1 = plt.subplots()\n",
    "\n",
    "color = 'tab:red'\n",
    "ax1.set_xlabel('Bulan')\n",
    "ax1.set_ylabel('Jumlah Produk', color=color)\n",
    "ax1.plot(grouped_df.index, grouped_df['jumlah_produk'], color=color, marker='o', label='Jumlah Produk')\n",
    "ax1.tick_params(axis='y', labelcolor=color)\n",
    "\n",
    "plt.title('Jumlah Produk dan Total Untung per Bulan')\n",
    "\n",
    "ax2 = ax1.twinx()\n",
    "color = 'tab:blue'\n",
    "ax2.set_ylabel('Total Untung', color=color)\n",
    "ax2.plot(grouped_df.index, grouped_df['total_untung'], color=color, marker='o', label='Total Untung')\n",
    "ax2.tick_params(axis='y', labelcolor=color)\n",
    "\n",
    "ax1.grid(True, linestyle='--', alpha=0.7)\n",
    "\n",
    "ax1.legend(loc='upper left')\n",
    "ax2.legend(loc='upper right')\n",
    "\n",
    "fig.tight_layout()\n",
    "\n",
    "plt.show()\n"
   ]
  },
  {
   "cell_type": "code",
   "execution_count": 10,
   "metadata": {},
   "outputs": [
    {
     "name": "stdout",
     "output_type": "stream",
     "text": [
      "<class 'pandas.core.frame.DataFrame'>\n",
      "RangeIndex: 8 entries, 0 to 7\n",
      "Data columns (total 3 columns):\n",
      " #   Column       Non-Null Count  Dtype  \n",
      "---  ------       --------------  -----  \n",
      " 0   Bulantahun   8 non-null      object \n",
      " 1   id_campaign  8 non-null      float64\n",
      " 2   Budget       7 non-null      float64\n",
      "dtypes: float64(2), object(1)\n",
      "memory usage: 324.0+ bytes\n"
     ]
    }
   ],
   "source": [
    "temp = transaksi.groupby('Bulantahun')['id_campaign'].sum().reset_index()\n",
    "temp = pd.DataFrame(temp ,columns=['Bulantahun','id_campaign'])\n",
    "Budget =pd.DataFrame(campaign['Budget'])\n",
    "temp['Budget'] = Budget\n",
    "temp['Budget'] = temp['Budget'].str.replace(r'^Rp|\\.00$', '', regex=True)\n",
    "temp['Budget'] = pd.to_numeric(temp['Budget'])\n",
    "temp.info()\n",
    "\n"
   ]
  },
  {
   "cell_type": "code",
   "execution_count": 11,
   "metadata": {},
   "outputs": [
    {
     "data": {
      "text/html": [
       "<div>\n",
       "<style scoped>\n",
       "    .dataframe tbody tr th:only-of-type {\n",
       "        vertical-align: middle;\n",
       "    }\n",
       "\n",
       "    .dataframe tbody tr th {\n",
       "        vertical-align: top;\n",
       "    }\n",
       "\n",
       "    .dataframe thead th {\n",
       "        text-align: right;\n",
       "    }\n",
       "</style>\n",
       "<table border=\"1\" class=\"dataframe\">\n",
       "  <thead>\n",
       "    <tr style=\"text-align: right;\">\n",
       "      <th></th>\n",
       "      <th>Bulantahun</th>\n",
       "      <th>id_campaign</th>\n",
       "      <th>Budget</th>\n",
       "    </tr>\n",
       "  </thead>\n",
       "  <tbody>\n",
       "    <tr>\n",
       "      <th>0</th>\n",
       "      <td>2021-01</td>\n",
       "      <td>57.0</td>\n",
       "      <td>10000000.0</td>\n",
       "    </tr>\n",
       "    <tr>\n",
       "      <th>1</th>\n",
       "      <td>2021-02</td>\n",
       "      <td>96.0</td>\n",
       "      <td>14000000.0</td>\n",
       "    </tr>\n",
       "    <tr>\n",
       "      <th>2</th>\n",
       "      <td>2021-03</td>\n",
       "      <td>183.0</td>\n",
       "      <td>23000000.0</td>\n",
       "    </tr>\n",
       "    <tr>\n",
       "      <th>3</th>\n",
       "      <td>2021-04</td>\n",
       "      <td>300.0</td>\n",
       "      <td>35000000.0</td>\n",
       "    </tr>\n",
       "    <tr>\n",
       "      <th>4</th>\n",
       "      <td>2021-05</td>\n",
       "      <td>330.0</td>\n",
       "      <td>36000000.0</td>\n",
       "    </tr>\n",
       "  </tbody>\n",
       "</table>\n",
       "</div>"
      ],
      "text/plain": [
       "  Bulantahun  id_campaign      Budget\n",
       "0    2021-01         57.0  10000000.0\n",
       "1    2021-02         96.0  14000000.0\n",
       "2    2021-03        183.0  23000000.0\n",
       "3    2021-04        300.0  35000000.0\n",
       "4    2021-05        330.0  36000000.0"
      ]
     },
     "execution_count": 11,
     "metadata": {},
     "output_type": "execute_result"
    }
   ],
   "source": [
    "temp.head()"
   ]
  },
  {
   "cell_type": "code",
   "execution_count": 12,
   "metadata": {},
   "outputs": [
    {
     "name": "stdout",
     "output_type": "stream",
     "text": [
      "<class 'pandas.core.frame.DataFrame'>\n",
      "RangeIndex: 8 entries, 0 to 7\n",
      "Data columns (total 3 columns):\n",
      " #   Column       Non-Null Count  Dtype  \n",
      "---  ------       --------------  -----  \n",
      " 0   Bulantahun   8 non-null      object \n",
      " 1   id_campaign  8 non-null      float64\n",
      " 2   Budget       7 non-null      float64\n",
      "dtypes: float64(2), object(1)\n",
      "memory usage: 324.0+ bytes\n"
     ]
    }
   ],
   "source": [
    "temp.info()"
   ]
  },
  {
   "cell_type": "code",
   "execution_count": 13,
   "metadata": {},
   "outputs": [
    {
     "data": {
      "image/png": "[encoded data removed]",
      "text/plain": [
       "<Figure size 640x480 with 1 Axes>"
      ]
     },
     "metadata": {},
     "output_type": "display_data"
    }
   ],
   "source": [
    "plt.bar(temp['Bulantahun'], temp['Budget'])\n",
    "plt.xlabel('Month')\n",
    "plt.ylabel('Budget')\n",
    "plt.title('Budget Distribution per month in 2021')\n",
    "\n",
    "\n",
    "plt.show()\n"
   ]
  },
  {
   "cell_type": "code",
   "execution_count": 14,
   "metadata": {},
   "outputs": [],
   "source": [
    "temp = transaksi.groupby('Tipe_Produk').count().reset_index()\n",
    "temp = temp.rename(columns={'index':'Jumlah'})"
   ]
  },
  {
   "cell_type": "code",
   "execution_count": 131,
   "metadata": {},
   "outputs": [
    {
     "data": {
      "image/png": "[encoded data removed]",
      "text/plain": [
       "<Figure size 1000x500 with 1 Axes>"
      ]
     },
     "metadata": {},
     "output_type": "display_data"
    }
   ],
   "source": [
    "plt.figure(figsize=(10, 5))\n",
    "plt.bar(temp['Tipe_Produk'], temp['Jumlah'])\n",
    "plt.xlabel('Tipe Produk')\n",
    "plt.ylabel('Jumlah Produk')\n",
    "plt.title('Jumlah Produk berdasarkan Tipe Produk')\n",
    "plt.xticks(temp['Tipe_Produk'])\n",
    "plt.show()"
   ]
  },
  {
   "cell_type": "code",
   "execution_count": null,
   "metadata": {},
   "outputs": [],
   "source": []
  }
 ],
 "metadata": {
  "kernelspec": {
   "display_name": "base",
   "language": "python",
   "name": "python3"
  },
  "language_info": {
   "codemirror_mode": {
    "name": "ipython",
    "version": 3
   },
   "file_extension": ".py",
   "mimetype": "text/x-python",
   "name": "python",
   "nbconvert_exporter": "python",
   "pygments_lexer": "ipython3",
   "version": "3.11.4"
  }
 },
 "nbformat": 4,
 "nbformat_minor": 2
}
